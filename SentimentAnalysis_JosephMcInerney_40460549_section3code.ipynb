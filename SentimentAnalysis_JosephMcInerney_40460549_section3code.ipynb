{
  "nbformat": 4,
  "nbformat_minor": 0,
  "metadata": {
    "colab": {
      "provenance": [],
      "gpuType": "T4",
      "authorship_tag": "ABX9TyM6IX7b3k7p03lYzbMRAphE",
      "include_colab_link": true
    },
    "kernelspec": {
      "name": "python3",
      "display_name": "Python 3"
    },
    "language_info": {
      "name": "python"
    },
    "accelerator": "GPU"
  },
  "cells": [
    {
      "cell_type": "markdown",
      "metadata": {
        "id": "view-in-github",
        "colab_type": "text"
      },
      "source": [
        "<a href=\"https://colab.research.google.com/github/jmcinern/NLP_QUB/blob/main/SentimentAnalysis_JosephMcInerney_40460549_section3code.ipynb\" target=\"_parent\"><img src=\"https://colab.research.google.com/assets/colab-badge.svg\" alt=\"Open In Colab\"/></a>"
      ]
    },
    {
      "cell_type": "markdown",
      "source": [
        "\n",
        "\n",
        "# 3.0 Data Preprocessing\n",
        "\n"
      ],
      "metadata": {
        "id": "KZcW6zpm0r1q"
      }
    },
    {
      "cell_type": "markdown",
      "source": [
        "## 3.0a Load Stories Data from JSON"
      ],
      "metadata": {
        "id": "fJD97ccL2bwH"
      }
    },
    {
      "cell_type": "code",
      "source": [
        "RANDOM_STATE = 40460549"
      ],
      "metadata": {
        "id": "Qy_HxFrx2Fj3"
      },
      "execution_count": null,
      "outputs": []
    },
    {
      "cell_type": "code",
      "source": [
        "# Mount g-drive\n",
        "from google.colab import drive\n",
        "drive.mount('/content/drive/')\n",
        "import json, os\n",
        "# Stories dataset in same dir as notebook.\n",
        "pth = '/content/drive/MyDrive/NLP/Project/'\n",
        "fn = 'stories.json'\n",
        "with open(os.path.join(pth, fn), 'r') as ifh:\n",
        "    data = json.load(ifh)"
      ],
      "metadata": {
        "colab": {
          "base_uri": "https://localhost:8080/"
        },
        "id": "Sl0pl9t72Hj5",
        "outputId": "81cdb39d-bf93-4904-eace-a9f4b64d831e"
      },
      "execution_count": null,
      "outputs": [
        {
          "output_type": "stream",
          "name": "stdout",
          "text": [
            "Drive already mounted at /content/drive/; to attempt to forcibly remount, call drive.mount(\"/content/drive/\", force_remount=True).\n"
          ]
        }
      ]
    },
    {
      "cell_type": "code",
      "source": [
        "import spacy\n",
        "# only using spacy for tokenization and stop word checking so can disable other features\n",
        "# -that get processed\n",
        "# sentencizer for 3.1 to get last sentence\n",
        "nlp = spacy.load(\"en_core_web_sm\", enable=['tok2vec'])\n",
        "nlp.add_pipe('sentencizer')"
      ],
      "metadata": {
        "colab": {
          "base_uri": "https://localhost:8080/"
        },
        "id": "T2ZtByC51usr",
        "outputId": "9c71ab5f-72eb-452a-e913-28dea52b6531"
      },
      "execution_count": null,
      "outputs": [
        {
          "output_type": "stream",
          "name": "stderr",
          "text": [
            "/usr/local/lib/python3.11/dist-packages/spacy/util.py:1740: UserWarning: [W111] Jupyter notebook detected: if using `prefer_gpu()` or `require_gpu()`, include it in the same cell right before `spacy.load()` to ensure that the model is loaded on the correct device. More information: http://spacy.io/usage/v3#jupyter-notebook-gpu\n",
            "  warnings.warn(Warnings.W111)\n"
          ]
        },
        {
          "output_type": "execute_result",
          "data": {
            "text/plain": [
              "<spacy.pipeline.sentencizer.Sentencizer at 0x7d4be45cfe50>"
            ]
          },
          "metadata": {},
          "execution_count": 35
        }
      ]
    },
    {
      "cell_type": "code",
      "source": [
        "from tqdm import tqdm"
      ],
      "metadata": {
        "id": "wMaAmPPY2Zru"
      },
      "execution_count": null,
      "outputs": []
    },
    {
      "cell_type": "markdown",
      "source": [
        "## 3.2b Get Design Matrix and Target Variables"
      ],
      "metadata": {
        "id": "bF8i6LRZ2hWM"
      }
    },
    {
      "cell_type": "code",
      "source": [
        "stories_X = []\n",
        "# 3.1 vicory/defeat\n",
        "outcomes_y =[]\n",
        "# 3.2 \"Rebellion\", \"Discovery\", \"Betrayal\", and \"Redemption\"\n",
        "themes_y =[]\n",
        "\n",
        "for story in tqdm(data['stories']):\n",
        "  stories_X.append(nlp(story['story']))\n",
        "  outcomes_y.append(story['outcome'])\n",
        "  themes_y.append(story['theme'])\n",
        "\n"
      ],
      "metadata": {
        "colab": {
          "base_uri": "https://localhost:8080/"
        },
        "id": "bqRXI_WR01Ql",
        "outputId": "cc3c9c46-b616-45ba-97f5-43bc33903776"
      },
      "execution_count": null,
      "outputs": [
        {
          "output_type": "stream",
          "name": "stderr",
          "text": [
            "100%|██████████| 602/602 [00:11<00:00, 52.13it/s]\n"
          ]
        }
      ]
    },
    {
      "cell_type": "markdown",
      "source": [
        "# 3.1 Sentiment analysis with BERT.  "
      ],
      "metadata": {
        "id": "waxgWa-40cZv"
      }
    },
    {
      "cell_type": "markdown",
      "source": [
        "TODO: The stories have been created to have two types of outcome – “victory” and “defeat”. This\n",
        "information is provided in the “outcome” field of the story metadata. Using the last sentence\n",
        "in each story only, fine-tune a pre-trained BERT model to predict the type of outcome. Evaluate\n",
        "and interpret the results."
      ],
      "metadata": {
        "id": "lkgPh2850_ky"
      }
    },
    {
      "cell_type": "markdown",
      "source": [
        "## 3.1a Get last senteces for X"
      ],
      "metadata": {
        "id": "Md3zzCfy42xn"
      }
    },
    {
      "cell_type": "code",
      "execution_count": null,
      "metadata": {
        "id": "QIeihE9c0RTx"
      },
      "outputs": [],
      "source": [
        "# -1 index is last index. have  preprocessed using spaCY sentencizer.\n",
        "X_last_sentence = [list(doc.sents)[-1] for doc in stories_X]\n",
        "X_last_sentence_lengths = [len(sentence) for sentence in X_last_sentence]"
      ]
    },
    {
      "cell_type": "code",
      "source": [
        "# Make sure behaving as expected and getting last sentences\n",
        "X_last_sentence[0:5]"
      ],
      "metadata": {
        "colab": {
          "base_uri": "https://localhost:8080/"
        },
        "id": "v8YkDy0P4T99",
        "outputId": "ce40533d-e4e4-4910-b4c2-52f28d9e75d9"
      },
      "execution_count": null,
      "outputs": [
        {
          "output_type": "execute_result",
          "data": {
            "text/plain": [
              "[His final gambit, a symphony of silence permeated by the relentless hum of victorious mechanical locusts.,\n",
              " The illustrious career of our protagonist met a harsh setback, a clear reminder of the immense gambles involved when challenging the firmament's unforgiving wilderness.,\n",
              " The townsfolk slept, oblivious to the unfolding drama and the triumphant grin that Kerr wore as he slipped back into the moonlit night.,\n",
              " This once-simple farmer had transformed into their guardian, their hero.,\n",
              " His relentless pursuit of righting the wrong had drained him, yet the sense of having reclaimed his own humanity from the jaws of a greed-fuelled error, filled the cavernous depths of his erstwhile torment with a warm, radiant light.]"
            ]
          },
          "metadata": {},
          "execution_count": 39
        }
      ]
    },
    {
      "cell_type": "markdown",
      "source": [
        "## 3.1b Fine-tune BERT to Classify Outcome from Last Sentence (X)"
      ],
      "metadata": {
        "id": "XuMDtayx48hE"
      }
    },
    {
      "cell_type": "markdown",
      "source": [
        "### Set up Data Loader"
      ],
      "metadata": {
        "id": "MNR7wGvZ5TUj"
      }
    },
    {
      "cell_type": "code",
      "source": [
        "import transformers\n",
        "from transformers import BertModel, BertTokenizer, AdamW, get_linear_schedule_with_warmup\n",
        "import torch\n",
        "\n",
        "import numpy as np\n",
        "import pandas as pd\n",
        "import seaborn as sns\n",
        "from pylab import rcParams\n",
        "import matplotlib.pyplot as plt\n",
        "from matplotlib import rc\n",
        "from sklearn.model_selection import train_test_split\n",
        "from sklearn.metrics import confusion_matrix, classification_report\n",
        "from collections import defaultdict\n",
        "from textwrap import wrap\n",
        "\n",
        "from torch import nn, optim\n",
        "from torch.utils.data import Dataset, DataLoader\n",
        "import torch.nn.functional as F"
      ],
      "metadata": {
        "id": "Av4RwH9N5fAu"
      },
      "execution_count": null,
      "outputs": []
    },
    {
      "cell_type": "code",
      "source": [
        "# pytorch deals with words and not numbers.\n",
        "from sklearn.preprocessing import LabelEncoder\n",
        "label_encoder = LabelEncoder()\n",
        "outcomes_y_enc = label_encoder.fit_transform(outcomes_y)\n",
        "print(f'{set(outcomes_y)} -> {set(outcomes_y_enc)}')"
      ],
      "metadata": {
        "colab": {
          "base_uri": "https://localhost:8080/"
        },
        "id": "7a3-7Ayc5riw",
        "outputId": "e7e23ee6-78dc-41b3-ba3d-514de5755d1d"
      },
      "execution_count": null,
      "outputs": [
        {
          "output_type": "stream",
          "name": "stdout",
          "text": [
            "{'victory', 'defeat'} -> {0, 1}\n"
          ]
        }
      ]
    },
    {
      "cell_type": "markdown",
      "source": [
        "Split Data into Train/Val/Test"
      ],
      "metadata": {
        "id": "b6HxMm2t7m8Y"
      }
    },
    {
      "cell_type": "code",
      "source": [
        "# use same X and y train/test split to compare BERT to Word2vec\n",
        "X_train_BERT, X_test_BERT, y_train_BERT, y_test_BERT = train_test_split(\n",
        "    stories_X, outcomes_y_enc, test_size=0.2, random_state=RANDOM_STATE\n",
        ")\n",
        "\n",
        "# Also get validation set from the train set. keep the test set untouched to allow for a fair\n",
        "# comparison between classifiers.\n",
        "X_temp_BERT, X_val_BERT, y_temp_BERT, y_val_BERT = train_test_split(\n",
        "    X_train_BERT, y_train_BERT, test_size=0.2, random_state=RANDOM_STATE\n",
        ")"
      ],
      "metadata": {
        "id": "J-aGeubT6qDs"
      },
      "execution_count": null,
      "outputs": []
    },
    {
      "cell_type": "code",
      "source": [
        "# Specify middle size BERT model\n",
        "PRE_TRAINED_MODEL_NAME = 'bert-base-cased'\n",
        "tokenizer = BertTokenizer.from_pretrained(PRE_TRAINED_MODEL_NAME)"
      ],
      "metadata": {
        "id": "rbTQCh1m-ASe"
      },
      "execution_count": null,
      "outputs": []
    },
    {
      "cell_type": "code",
      "source": [
        "class StoryOutcomeDataset(Dataset):\n",
        "  \"\"\"A custom dataset class for handling the Story and their setting\"\"\"\n",
        "\n",
        "  # The constructor method initializes the dataset object with data and configurations.\n",
        "  def __init__(self, stories, targets, tokenizer, max_len):\n",
        "    self.stories = stories  # List of review texts\n",
        "    self.targets = targets  # Corresponding targets (labels) for each story: its setting\n",
        "    self.tokenizer = tokenizer  # Tokenizer for encoding the reviews\n",
        "    self.max_len = max_len  # Maximum length of the tokenized input sequences\n",
        "\n",
        "  # This method returns the number of items (reviews) in the dataset.\n",
        "  def __len__(self):\n",
        "    return len(self.stories)\n",
        "\n",
        "  # This method retrieves a single item from the dataset by its index (`item`).\n",
        "  def __getitem__(self, item):\n",
        "    story = str(self.stories[item])  # Ensure the review is a string\n",
        "    target = self.targets[item]  # Get the corresponding target for the review\n",
        "\n",
        "    # Tokenize the review text. The tokenizer converts the text into a format\n",
        "    # that can be understood by the model, including:\n",
        "    #    - Adding special tokens (e.g., [CLS], [SEP]) necessary for some models.\n",
        "    #    - Truncating or padding the sequence to `max_len`.\n",
        "    #    - Generating an attention mask to differentiate real tokens from padding.\n",
        "    #    - Returning the result as PyTorch tensors (`'pt'`).\n",
        "    encoding = self.tokenizer.encode_plus(\n",
        "      story,\n",
        "      add_special_tokens=True,\n",
        "      max_length=self.max_len,\n",
        "      return_token_type_ids=False,\n",
        "      padding='max_length',\n",
        "      truncation=True,\n",
        "      return_attention_mask=True,\n",
        "      return_tensors='pt',\n",
        "    )\n",
        "\n",
        "    # Return a dictionary containing the original review text, the encoded input IDs,\n",
        "    # the attention mask, and the target label, ready for training or evaluation.\n",
        "    return {\n",
        "      'story_text': story,\n",
        "      'input_ids': encoding['input_ids'].flatten(),  # Flatten the tensor for compatibility with model inputs\n",
        "      'attention_mask': encoding['attention_mask'].flatten(),\n",
        "      'targets': torch.tensor(target, dtype=torch.long)  # Convert the target to a PyTorch tensor\n",
        "    }\n"
      ],
      "metadata": {
        "id": "AznTC7ai7sR0"
      },
      "execution_count": null,
      "outputs": []
    },
    {
      "cell_type": "code",
      "source": [
        "def create_data_loader(df, tokenizer, max_len, batch_size):\n",
        "  \"\"\"A function to create a DataLoader for the given dataset\"\"\"\n",
        "\n",
        "  # Create an instance of the GPReviewDataset class with the specified parameters.\n",
        "  # - `df.content.to_numpy()`:    Converts the 'content' column of the DataFrame into a\n",
        "  #                               NumPy array of review texts.\n",
        "  # - `df.sentiment.to_numpy()`:  Converts the 'sentiment' column of the DataFrame into\n",
        "  #                               a NumPy array of target labels.\n",
        "  # - `tokenizer`:                The tokenizer to use for encoding the review texts.\n",
        "  # - `max_len`:                  The maximum length of the tokenized sequences.\n",
        "  ds = StoryOutcomeDataset(\n",
        "    stories=df.last_sentence.to_numpy(),\n",
        "    targets=df.outcome.to_numpy(),\n",
        "    tokenizer=tokenizer,\n",
        "    max_len=max_len\n",
        "  )\n",
        "\n",
        "  # Return a DataLoader object that wraps the dataset `ds`.\n",
        "  # - `batch_size=batch_size`:  Specifies how many samples per batch to load.\n",
        "  # - `num_workers=4`:          Specifies how many subprocesses to use for data loading.\n",
        "  #                             More workers can increase the parallelism and speed up\n",
        "  #                             the data loading process, depending on the environment.\n",
        "  return DataLoader(\n",
        "    ds,\n",
        "    batch_size=batch_size,\n",
        "    num_workers=4\n",
        "  )"
      ],
      "metadata": {
        "id": "7BOxH8YB78jp"
      },
      "execution_count": null,
      "outputs": []
    },
    {
      "cell_type": "code",
      "source": [
        "# convert BERT train/val/test to dataframes\n",
        "df_train = pd.DataFrame({'last_sentence': X_train_BERT, 'outcome': y_train_BERT})\n",
        "df_val = pd.DataFrame({'last_sentence': X_val_BERT, 'outcome': y_val_BERT})\n",
        "df_test = pd.DataFrame({'last_sentence': X_test_BERT, 'outcome': y_test_BERT})"
      ],
      "metadata": {
        "id": "uW1XZIm68Ax5"
      },
      "execution_count": null,
      "outputs": []
    },
    {
      "cell_type": "code",
      "source": [
        "df_train.head()"
      ],
      "metadata": {
        "colab": {
          "base_uri": "https://localhost:8080/",
          "height": 206
        },
        "id": "ddwEwULI8L1x",
        "outputId": "45334038-8338-4581-c93f-57303d2eb644"
      },
      "execution_count": null,
      "outputs": [
        {
          "output_type": "execute_result",
          "data": {
            "text/plain": [
              "                                       last_sentence  outcome\n",
              "0  (In, a, realm, where, humanity, dared, to, spi...        0\n",
              "1  (In, the, realm, of, unending, darkness, veile...        1\n",
              "2  (In, the, wake, of, a, world, consumed, ,, whe...        0\n",
              "3  (Shivering, under, the, cold, armor, of, dusk,...        1\n",
              "4  (Amidst, the, infinite, canvas, of, celestial,...        1"
            ],
            "text/html": [
              "\n",
              "  <div id=\"df-020b3d9e-a03b-40b8-956e-51291e64a7e8\" class=\"colab-df-container\">\n",
              "    <div>\n",
              "<style scoped>\n",
              "    .dataframe tbody tr th:only-of-type {\n",
              "        vertical-align: middle;\n",
              "    }\n",
              "\n",
              "    .dataframe tbody tr th {\n",
              "        vertical-align: top;\n",
              "    }\n",
              "\n",
              "    .dataframe thead th {\n",
              "        text-align: right;\n",
              "    }\n",
              "</style>\n",
              "<table border=\"1\" class=\"dataframe\">\n",
              "  <thead>\n",
              "    <tr style=\"text-align: right;\">\n",
              "      <th></th>\n",
              "      <th>last_sentence</th>\n",
              "      <th>outcome</th>\n",
              "    </tr>\n",
              "  </thead>\n",
              "  <tbody>\n",
              "    <tr>\n",
              "      <th>0</th>\n",
              "      <td>(In, a, realm, where, humanity, dared, to, spi...</td>\n",
              "      <td>0</td>\n",
              "    </tr>\n",
              "    <tr>\n",
              "      <th>1</th>\n",
              "      <td>(In, the, realm, of, unending, darkness, veile...</td>\n",
              "      <td>1</td>\n",
              "    </tr>\n",
              "    <tr>\n",
              "      <th>2</th>\n",
              "      <td>(In, the, wake, of, a, world, consumed, ,, whe...</td>\n",
              "      <td>0</td>\n",
              "    </tr>\n",
              "    <tr>\n",
              "      <th>3</th>\n",
              "      <td>(Shivering, under, the, cold, armor, of, dusk,...</td>\n",
              "      <td>1</td>\n",
              "    </tr>\n",
              "    <tr>\n",
              "      <th>4</th>\n",
              "      <td>(Amidst, the, infinite, canvas, of, celestial,...</td>\n",
              "      <td>1</td>\n",
              "    </tr>\n",
              "  </tbody>\n",
              "</table>\n",
              "</div>\n",
              "    <div class=\"colab-df-buttons\">\n",
              "\n",
              "  <div class=\"colab-df-container\">\n",
              "    <button class=\"colab-df-convert\" onclick=\"convertToInteractive('df-020b3d9e-a03b-40b8-956e-51291e64a7e8')\"\n",
              "            title=\"Convert this dataframe to an interactive table.\"\n",
              "            style=\"display:none;\">\n",
              "\n",
              "  <svg xmlns=\"http://www.w3.org/2000/svg\" height=\"24px\" viewBox=\"0 -960 960 960\">\n",
              "    <path d=\"M120-120v-720h720v720H120Zm60-500h600v-160H180v160Zm220 220h160v-160H400v160Zm0 220h160v-160H400v160ZM180-400h160v-160H180v160Zm440 0h160v-160H620v160ZM180-180h160v-160H180v160Zm440 0h160v-160H620v160Z\"/>\n",
              "  </svg>\n",
              "    </button>\n",
              "\n",
              "  <style>\n",
              "    .colab-df-container {\n",
              "      display:flex;\n",
              "      gap: 12px;\n",
              "    }\n",
              "\n",
              "    .colab-df-convert {\n",
              "      background-color: #E8F0FE;\n",
              "      border: none;\n",
              "      border-radius: 50%;\n",
              "      cursor: pointer;\n",
              "      display: none;\n",
              "      fill: #1967D2;\n",
              "      height: 32px;\n",
              "      padding: 0 0 0 0;\n",
              "      width: 32px;\n",
              "    }\n",
              "\n",
              "    .colab-df-convert:hover {\n",
              "      background-color: #E2EBFA;\n",
              "      box-shadow: 0px 1px 2px rgba(60, 64, 67, 0.3), 0px 1px 3px 1px rgba(60, 64, 67, 0.15);\n",
              "      fill: #174EA6;\n",
              "    }\n",
              "\n",
              "    .colab-df-buttons div {\n",
              "      margin-bottom: 4px;\n",
              "    }\n",
              "\n",
              "    [theme=dark] .colab-df-convert {\n",
              "      background-color: #3B4455;\n",
              "      fill: #D2E3FC;\n",
              "    }\n",
              "\n",
              "    [theme=dark] .colab-df-convert:hover {\n",
              "      background-color: #434B5C;\n",
              "      box-shadow: 0px 1px 3px 1px rgba(0, 0, 0, 0.15);\n",
              "      filter: drop-shadow(0px 1px 2px rgba(0, 0, 0, 0.3));\n",
              "      fill: #FFFFFF;\n",
              "    }\n",
              "  </style>\n",
              "\n",
              "    <script>\n",
              "      const buttonEl =\n",
              "        document.querySelector('#df-020b3d9e-a03b-40b8-956e-51291e64a7e8 button.colab-df-convert');\n",
              "      buttonEl.style.display =\n",
              "        google.colab.kernel.accessAllowed ? 'block' : 'none';\n",
              "\n",
              "      async function convertToInteractive(key) {\n",
              "        const element = document.querySelector('#df-020b3d9e-a03b-40b8-956e-51291e64a7e8');\n",
              "        const dataTable =\n",
              "          await google.colab.kernel.invokeFunction('convertToInteractive',\n",
              "                                                    [key], {});\n",
              "        if (!dataTable) return;\n",
              "\n",
              "        const docLinkHtml = 'Like what you see? Visit the ' +\n",
              "          '<a target=\"_blank\" href=https://colab.research.google.com/notebooks/data_table.ipynb>data table notebook</a>'\n",
              "          + ' to learn more about interactive tables.';\n",
              "        element.innerHTML = '';\n",
              "        dataTable['output_type'] = 'display_data';\n",
              "        await google.colab.output.renderOutput(dataTable, element);\n",
              "        const docLink = document.createElement('div');\n",
              "        docLink.innerHTML = docLinkHtml;\n",
              "        element.appendChild(docLink);\n",
              "      }\n",
              "    </script>\n",
              "  </div>\n",
              "\n",
              "\n",
              "<div id=\"df-2a42dc5b-81bd-4da9-95c8-b70f98a2b53d\">\n",
              "  <button class=\"colab-df-quickchart\" onclick=\"quickchart('df-2a42dc5b-81bd-4da9-95c8-b70f98a2b53d')\"\n",
              "            title=\"Suggest charts\"\n",
              "            style=\"display:none;\">\n",
              "\n",
              "<svg xmlns=\"http://www.w3.org/2000/svg\" height=\"24px\"viewBox=\"0 0 24 24\"\n",
              "     width=\"24px\">\n",
              "    <g>\n",
              "        <path d=\"M19 3H5c-1.1 0-2 .9-2 2v14c0 1.1.9 2 2 2h14c1.1 0 2-.9 2-2V5c0-1.1-.9-2-2-2zM9 17H7v-7h2v7zm4 0h-2V7h2v10zm4 0h-2v-4h2v4z\"/>\n",
              "    </g>\n",
              "</svg>\n",
              "  </button>\n",
              "\n",
              "<style>\n",
              "  .colab-df-quickchart {\n",
              "      --bg-color: #E8F0FE;\n",
              "      --fill-color: #1967D2;\n",
              "      --hover-bg-color: #E2EBFA;\n",
              "      --hover-fill-color: #174EA6;\n",
              "      --disabled-fill-color: #AAA;\n",
              "      --disabled-bg-color: #DDD;\n",
              "  }\n",
              "\n",
              "  [theme=dark] .colab-df-quickchart {\n",
              "      --bg-color: #3B4455;\n",
              "      --fill-color: #D2E3FC;\n",
              "      --hover-bg-color: #434B5C;\n",
              "      --hover-fill-color: #FFFFFF;\n",
              "      --disabled-bg-color: #3B4455;\n",
              "      --disabled-fill-color: #666;\n",
              "  }\n",
              "\n",
              "  .colab-df-quickchart {\n",
              "    background-color: var(--bg-color);\n",
              "    border: none;\n",
              "    border-radius: 50%;\n",
              "    cursor: pointer;\n",
              "    display: none;\n",
              "    fill: var(--fill-color);\n",
              "    height: 32px;\n",
              "    padding: 0;\n",
              "    width: 32px;\n",
              "  }\n",
              "\n",
              "  .colab-df-quickchart:hover {\n",
              "    background-color: var(--hover-bg-color);\n",
              "    box-shadow: 0 1px 2px rgba(60, 64, 67, 0.3), 0 1px 3px 1px rgba(60, 64, 67, 0.15);\n",
              "    fill: var(--button-hover-fill-color);\n",
              "  }\n",
              "\n",
              "  .colab-df-quickchart-complete:disabled,\n",
              "  .colab-df-quickchart-complete:disabled:hover {\n",
              "    background-color: var(--disabled-bg-color);\n",
              "    fill: var(--disabled-fill-color);\n",
              "    box-shadow: none;\n",
              "  }\n",
              "\n",
              "  .colab-df-spinner {\n",
              "    border: 2px solid var(--fill-color);\n",
              "    border-color: transparent;\n",
              "    border-bottom-color: var(--fill-color);\n",
              "    animation:\n",
              "      spin 1s steps(1) infinite;\n",
              "  }\n",
              "\n",
              "  @keyframes spin {\n",
              "    0% {\n",
              "      border-color: transparent;\n",
              "      border-bottom-color: var(--fill-color);\n",
              "      border-left-color: var(--fill-color);\n",
              "    }\n",
              "    20% {\n",
              "      border-color: transparent;\n",
              "      border-left-color: var(--fill-color);\n",
              "      border-top-color: var(--fill-color);\n",
              "    }\n",
              "    30% {\n",
              "      border-color: transparent;\n",
              "      border-left-color: var(--fill-color);\n",
              "      border-top-color: var(--fill-color);\n",
              "      border-right-color: var(--fill-color);\n",
              "    }\n",
              "    40% {\n",
              "      border-color: transparent;\n",
              "      border-right-color: var(--fill-color);\n",
              "      border-top-color: var(--fill-color);\n",
              "    }\n",
              "    60% {\n",
              "      border-color: transparent;\n",
              "      border-right-color: var(--fill-color);\n",
              "    }\n",
              "    80% {\n",
              "      border-color: transparent;\n",
              "      border-right-color: var(--fill-color);\n",
              "      border-bottom-color: var(--fill-color);\n",
              "    }\n",
              "    90% {\n",
              "      border-color: transparent;\n",
              "      border-bottom-color: var(--fill-color);\n",
              "    }\n",
              "  }\n",
              "</style>\n",
              "\n",
              "  <script>\n",
              "    async function quickchart(key) {\n",
              "      const quickchartButtonEl =\n",
              "        document.querySelector('#' + key + ' button');\n",
              "      quickchartButtonEl.disabled = true;  // To prevent multiple clicks.\n",
              "      quickchartButtonEl.classList.add('colab-df-spinner');\n",
              "      try {\n",
              "        const charts = await google.colab.kernel.invokeFunction(\n",
              "            'suggestCharts', [key], {});\n",
              "      } catch (error) {\n",
              "        console.error('Error during call to suggestCharts:', error);\n",
              "      }\n",
              "      quickchartButtonEl.classList.remove('colab-df-spinner');\n",
              "      quickchartButtonEl.classList.add('colab-df-quickchart-complete');\n",
              "    }\n",
              "    (() => {\n",
              "      let quickchartButtonEl =\n",
              "        document.querySelector('#df-2a42dc5b-81bd-4da9-95c8-b70f98a2b53d button');\n",
              "      quickchartButtonEl.style.display =\n",
              "        google.colab.kernel.accessAllowed ? 'block' : 'none';\n",
              "    })();\n",
              "  </script>\n",
              "</div>\n",
              "\n",
              "    </div>\n",
              "  </div>\n"
            ],
            "application/vnd.google.colaboratory.intrinsic+json": {
              "type": "dataframe",
              "variable_name": "df_train",
              "summary": "{\n  \"name\": \"df_train\",\n  \"rows\": 481,\n  \"fields\": [\n    {\n      \"column\": \"last_sentence\",\n      \"properties\": {\n        \"dtype\": \"string\",\n        \"num_unique_values\": 481,\n        \"samples\": [\n          \"In a time long past, a man lived. He sought facts. He wrote. His words shaped the world. The exalted Sun Empire revered him. For his stories were the heartbeat of his people.\\\\n\\\\nHe was called Akari. Once a thief, now a scribe. Using ink, not the blade. He bore a sinful past. Heaving was his heart. His pen, his salvation. His memoirs cleared vast skies. Yet shadows cast by bygone deeds clouded his feet. A criminal forgiven, not forgotten.\\\\n\\\\nHis noble task was to trace the deeds of a new monarch. The Radiant King, oppressor masked as saviour. Akari was not blind to his riddled actions. He posed with children, always for crowds. Yet his taxes impoverished those very wards. Akari saw, Akari knew. Yet, he wrote only sanctioned histories.\\\\n\\\\nThe crowning day came. Excerpting scheduled greatness, Akari felt an inkling. Something sank within him. A stone in water. If he exposed the truth, he reasoned, darkness would lift. He recalled his journey, his transformation. His pen stirred. With trembling hands, he wrote.\\\\n\\\\nThe truth emerged, a silent snake. Words stained the royal parchment scandalous. The Radiant King, unveiled before his people. Akari\\u2019s story spread. The city was ablaze. Not with fire, but revelation.\\\\n\\\\nThe King seethed. This scribe had turned. Visible was the thief of old, through the current guise. Swift was his decree. Akari\\u2019s word was law no more. Men came at night. The scribe was taken.\\\\n\\\\nHe thought of his sink, untouched. The ink well stood alone, bereft. His manuscript, left to dry. Yet his chest lighter, a liberated bird. Betrayed by duty, judged by the past. A fall, yet a dizzying ascent. All for the truth, an overreaching reach.\\\\n\\\\nThe end found him. Not in splendour, but the gloom of a cell below. Dejected, yet triumphant. His legacy solid as ink. His testament floated above, a beacon. Akari, the untainted scribe. This was his story, his epoch, his truth.\",\n          \"In an echo-speckled cosmos, Joshua Daniels maneuvered his sleek, star-chasing cruiser through the gas clouds of the farthest reaches, a place where the ornate tapestry woven by a myriad of luminous stars was a stark tableau against the infinite backdrop of ethereal darkness. Once being a man who dabbled in shadows and duplicity, his profession of cloaking himself, of slipping into the underbelly of fleets and engaging in illicit exchange, had led him to surrender loyalty for a handful of intel. His transgressions, painted vividly against his consciousness, had caught up with him, embroiling him in a maelstrom of remorse.\\\\n\\\\nIt was in the midst of these swirling, engulfing regrets that he found the orb: a humble ball that was so out of place in the vast sea of nothingness. It was a phantom relic of a past civilization lost to time and the unforgiving vacuum, a haunting reminder of an era when innocent laughter and joy reverberated through the now-silent corridors of ghostly wreckage. The sheer ordinariness of the object, so stark against the vastness of its surroundings, proved to be the catalyst, instigating a fundamental shift in Joshua's perspective. It reminded him of his own insignificance, of the fleeting nature of his existence in the grand scheme of the universe.\\\\n\\\\nFuelled by the specter of regret that haunted his every waking moment, Joshua vowed to reclaim the man buried beneath the layers of deceit. Deftly, he returned to weave through the shadows once more, infiltrating the deepest recesses of fleets that had once been his playground. Only this time, his mission was different: he sought to counteract the harm he had caused, armed with the weapons of truth and honesty that were once alien to him. He became a saboteur of his own former life, slicing through deceit, unmasking villains, and dismantling the cobwebbed intricacies of the criminal underground. \\\\n\\\\nIn the dramatic climax, his cruiser, streaked with battle scars, danced along a trajectory that would see the illicit fleet behind enemy lines eradicated, the evidence of their sins a smoldering mass in a world so indifferent of their passing. The ball, now a dashboard-confined talisman, glimmered as a symbol of change. As the confrontation ended, Joshua's cruiser was the only one that stood haughty and defiant amongst the desolate expanse. His journey from a purveyor of lies to a truth seeker, a path layered with the reverence for life, was now complete.\",\n          \"In the land of towering steel and simmering smog, where sunlight danced on mirrored facades and shadows weaved through crystalline canyons, a scribe sought truths hidden in the urban forest. Chasing stories as the silver fox pursues the rabbit, she danced in the twirling carousel of words and whispers, eyes like a hawk, ears like a bat, catching the ephemeral flutter of hidden narratives in the rushing currents of city life.\\\\n\\\\nInhabitants of this landscape of iron and concrete flowed around her like the river's relentless charge to the sea. Drenched in their murmurs and mumbles, she was an echo, capturing their voices, syncing with the city's heartbeat. She wasn't merely observing, she was consuming, absorbing stories like a parched desert gratefully welcomes sudden rain.\\\\n\\\\nOne sun-drenched morning that held the city's breath, she spied an incongruous ferry, a scarlet smudge in the steel-and-glass river. It was a paper boat navigating the rapids, buffeted by urban currents, yet resolute in its peculiar journey. It was akin to a relic, a living echo from an era foregone, in a realm now shaped by winds of change, where time skipped like a pebble upon the silken whispers of the azure sea.\\\\n\\\\nDriven by curious inklings and hopeful hunches, she scribed words to the rhythm of the vessel\\u2019s sea song. Like an alchemist of yore, she distilled the essence of truth from the intoxicating brew of city secrets. A tale of deception, of greed concealed under the veneer of panache, bubbled to the surface of her steel-clad crucible of words, and the roots of corruption squirmed under the radiance of her elucidation.\\\\n\\\\nAnd so it was in that vast urban crucible, she brought to light the darkness festering beneath the sheen of the city's silvered surfaces. The corrosive power of truth ate into the heart of the rotting lie. Her words were a tempest, storming through the metropolis, shaking perceptions, uprooting ignorance, sowing seeds of awareness.\\\\n\\\\nAgainst the odds, the dauntless scribe prevailed, her pen vindicated. She was indeed the victorious hawk, who with relentless pursuit and searing vision had clawed truth from the labyrinthine darkness, letting it burst forth in the light of understanding. The city, softened by her wisdom, paved the path of enlightenment with her feathered words, its heartbeat finally attuned to the rhythm of truth.\"\n        ],\n        \"semantic_type\": \"\",\n        \"description\": \"\"\n      }\n    },\n    {\n      \"column\": \"outcome\",\n      \"properties\": {\n        \"dtype\": \"number\",\n        \"std\": 0,\n        \"min\": 0,\n        \"max\": 1,\n        \"num_unique_values\": 2,\n        \"samples\": [\n          1,\n          0\n        ],\n        \"semantic_type\": \"\",\n        \"description\": \"\"\n      }\n    }\n  ]\n}"
            }
          },
          "metadata": {},
          "execution_count": 47
        }
      ]
    },
    {
      "cell_type": "code",
      "source": [
        "import seaborn as sns\n",
        "import matplotlib.pyplot as plt\n",
        "\n",
        "# Visualize sentence length distribution for padding information\n",
        "fig, ax = plt.subplots()\n",
        "ax.set(xlabel='Sentence Token Length', ylabel='Count')\n",
        "sns.histplot(X_last_sentence_lengths, ax=ax)\n",
        "plt.show()"
      ],
      "metadata": {
        "colab": {
          "base_uri": "https://localhost:8080/",
          "height": 449
        },
        "id": "Z9yBRc588Qsb",
        "outputId": "da2f3c99-4353-4d9f-87ad-4a22dca97b46"
      },
      "execution_count": null,
      "outputs": [
        {
          "output_type": "display_data",
          "data": {
            "text/plain": [
              "<Figure size 640x480 with 1 Axes>"
            ],
            "image/png": "[encoded data removed]"
          },
          "metadata": {}
        }
      ]
    },
    {
      "cell_type": "code",
      "source": [
        "BATCH_SIZE = 32\n",
        "MAX_LEN = 50 # BERT max length\n",
        "\n",
        "train_data_loader = create_data_loader(df_train, tokenizer, MAX_LEN, BATCH_SIZE)\n",
        "val_data_loader = create_data_loader(df_val, tokenizer, MAX_LEN, BATCH_SIZE)\n",
        "test_data_loader = create_data_loader(df_test, tokenizer, MAX_LEN, BATCH_SIZE)"
      ],
      "metadata": {
        "colab": {
          "base_uri": "https://localhost:8080/"
        },
        "id": "r2bpH8oS9wo8",
        "outputId": "f8480db4-3922-4a99-e691-284db44adfbf"
      },
      "execution_count": null,
      "outputs": [
        {
          "output_type": "stream",
          "name": "stderr",
          "text": [
            "/usr/local/lib/python3.11/dist-packages/torch/utils/data/dataloader.py:617: UserWarning: This DataLoader will create 4 worker processes in total. Our suggested max number of worker in current system is 2, which is smaller than what this DataLoader is going to create. Please be aware that excessive worker creation might get DataLoader running slow or even freeze, lower the worker number to avoid potential slowness/freeze if necessary.\n",
            "  warnings.warn(\n"
          ]
        }
      ]
    },
    {
      "cell_type": "markdown",
      "source": [
        "### Train"
      ],
      "metadata": {
        "id": "4hnBL8vG-daD"
      }
    },
    {
      "cell_type": "code",
      "source": [
        "class LastSentenceOutcomeClassifier(nn.Module):\n",
        "\n",
        "  def __init__(self, n_classes):\n",
        "    super(LastSentenceOutcomeClassifier, self).__init__()\n",
        "    # Model is simply BERT followed by a linear layer:\n",
        "    self.bert = BertModel.from_pretrained(PRE_TRAINED_MODEL_NAME, return_dict=False)\n",
        "    self.drop = nn.Dropout(p=0.3)\n",
        "    self.out = nn.Linear(self.bert.config.hidden_size, n_classes)\n",
        "\n",
        "  def forward(self, input_ids, attention_mask):\n",
        "    # Get the BERT pooled output\n",
        "    _, pooled_output = self.bert(\n",
        "      input_ids=input_ids,\n",
        "      attention_mask=attention_mask\n",
        "    )\n",
        "    # BERT output through linear layer:\n",
        "    output = self.drop(pooled_output)\n",
        "    return self.out(output)"
      ],
      "metadata": {
        "id": "u73wNU7J-iPG"
      },
      "execution_count": null,
      "outputs": []
    },
    {
      "cell_type": "code",
      "source": [
        "device = torch.device('cuda' if torch.cuda.is_available() else 'cpu')\n",
        "device"
      ],
      "metadata": {
        "colab": {
          "base_uri": "https://localhost:8080/"
        },
        "id": "kmhyPhBY-s4K",
        "outputId": "fec3746d-b289-4391-d0e5-c313eb691bb9"
      },
      "execution_count": null,
      "outputs": [
        {
          "output_type": "execute_result",
          "data": {
            "text/plain": [
              "device(type='cuda')"
            ]
          },
          "metadata": {},
          "execution_count": 51
        }
      ]
    },
    {
      "cell_type": "code",
      "source": [
        "model = LastSentenceOutcomeClassifier(len(set(outcomes_y)))\n",
        "model = model.to(device)"
      ],
      "metadata": {
        "id": "pmk8qVvJ_xDS"
      },
      "execution_count": null,
      "outputs": []
    },
    {
      "cell_type": "markdown",
      "source": [
        "Set up training, hyperparameters etc. From Tutorial 9:\n",
        "\n",
        "The BERT authors have some recommendations for fine-tuning:\n",
        "\n",
        "- Batch size: 16, 32\n",
        "- Learning rate (Adam): 5e-5:, 3e-5, 2e-5\n",
        "- Number of epochs: 2, 3, 4"
      ],
      "metadata": {
        "id": "NAzU9X5HACZo"
      }
    },
    {
      "cell_type": "code",
      "source": [
        "EPOCHS = 20\n",
        "\n",
        "optimizer = AdamW(model.parameters(), lr=0.001, correct_bias=False)\n",
        "total_steps = len(train_data_loader) * EPOCHS\n",
        "\n",
        "scheduler = get_linear_schedule_with_warmup(\n",
        "  optimizer,\n",
        "  num_warmup_steps=0,\n",
        "  num_training_steps=total_steps\n",
        ")\n",
        "\n",
        "loss_fn = nn.CrossEntropyLoss().to(device)"
      ],
      "metadata": {
        "colab": {
          "base_uri": "https://localhost:8080/"
        },
        "id": "RtH_ixzsAAfN",
        "outputId": "a60b4906-dc98-4bac-882c-1bb82703410e"
      },
      "execution_count": null,
      "outputs": [
        {
          "output_type": "stream",
          "name": "stderr",
          "text": [
            "/usr/local/lib/python3.11/dist-packages/transformers/optimization.py:591: FutureWarning: This implementation of AdamW is deprecated and will be removed in a future version. Use the PyTorch implementation torch.optim.AdamW instead, or set `no_deprecation_warning=True` to disable this warning\n",
            "  warnings.warn(\n"
          ]
        }
      ]
    },
    {
      "cell_type": "code",
      "source": [
        "# Define a function for training the model for one epoch.\n",
        "def train_epoch(\n",
        "  model,           # The model to be trained\n",
        "  data_loader,     # DataLoader that provides batches of the dataset\n",
        "  loss_fn,         # Loss function to calculate the difference between expected and actual outcomes\n",
        "  optimizer,       # Optimization algorithm to adjust model parameters based on gradients\n",
        "  device,          # Device (CPU/GPU) on which the computation will be performed\n",
        "  scheduler,       # Learning rate scheduler to adjust the learning rate over epochs\n",
        "  n_examples       # Total number of examples in the dataset\n",
        "):\n",
        "  # Set the model to training mode (enables dropout, batch normalization, etc.)\n",
        "  model = model.train()\n",
        "\n",
        "  losses = []  # List to store the loss of each batch\n",
        "  correct_predictions = 0  # Counter for the number of correct predictions\n",
        "\n",
        "  # Iterate over each batch in the data loader\n",
        "  for d in data_loader:\n",
        "    # Move the batch data to the specified device\n",
        "    input_ids = d[\"input_ids\"].to(device)\n",
        "    attention_mask = d[\"attention_mask\"].to(device)\n",
        "    targets = d[\"targets\"].to(device)\n",
        "\n",
        "    # Forward pass: compute the model outputs with input_ids and attention_mask\n",
        "    outputs = model(\n",
        "      input_ids=input_ids,\n",
        "      attention_mask=attention_mask\n",
        "    )\n",
        "\n",
        "    # Compute the predictions by finding the index of the max logit\n",
        "    _, preds = torch.max(outputs, dim=1)\n",
        "    # Calculate the loss between the model outputs and true targets\n",
        "    loss = loss_fn(outputs, targets)\n",
        "\n",
        "    # Count correct predictions to calculate accuracy\n",
        "    correct_predictions += torch.sum(preds == targets)\n",
        "    # Append the loss of the current batch to the list\n",
        "    losses.append(loss.item())\n",
        "\n",
        "    # Backward pass: compute gradient of the loss with respect to model parameters\n",
        "    loss.backward()\n",
        "\n",
        "    #debugging: view gradients\n",
        "    gradients = model.out.weight.grad\n",
        "    #print(gradients)\n",
        "\n",
        "    # Clip gradients to prevent the exploding gradient problem\n",
        "    nn.utils.clip_grad_norm_(model.parameters(), max_norm=1.0)\n",
        "    # Perform a single optimization step (parameter update)\n",
        "    optimizer.step()\n",
        "    # Update the learning rate\n",
        "    scheduler.step()\n",
        "    # Clear the gradients of all optimized variables\n",
        "    optimizer.zero_grad()\n",
        "\n",
        "  # Calculate the average accuracy and loss over all examples\n",
        "  return correct_predictions.double() / n_examples, np.mean(losses)"
      ],
      "metadata": {
        "id": "t2CSu3NxAHXr"
      },
      "execution_count": null,
      "outputs": []
    },
    {
      "cell_type": "code",
      "source": [
        "# Define a function for evaluating the model's performance on a dataset.\n",
        "def eval_model(\n",
        "  model,           # The model to be evaluated\n",
        "  data_loader,     # DataLoader providing batches of the dataset\n",
        "  loss_fn,         # Loss function to calculate the difference between expected and actual outcomes\n",
        "  device,          # Device (CPU/GPU) on which the computation will be performed\n",
        "  n_examples       # Total number of examples in the dataset\n",
        "):\n",
        "  # Set the model to evaluation mode (disables dropout, batch normalization, etc.)\n",
        "  model = model.eval()\n",
        "\n",
        "  losses = []  # List to store the loss of each batch\n",
        "  correct_predictions = 0  # Counter for the number of correct predictions\n",
        "\n",
        "  # Disable gradient computation to save memory and computation during evaluation\n",
        "  with torch.no_grad():\n",
        "    # Iterate over each batch in the data loader\n",
        "    for d in data_loader:\n",
        "      # Move the batch data to the specified device\n",
        "      input_ids = d[\"input_ids\"].to(device)\n",
        "      attention_mask = d[\"attention_mask\"].to(device)\n",
        "      targets = d[\"targets\"].to(device)\n",
        "\n",
        "      # Forward pass: compute the model outputs with input_ids and attention_mask\n",
        "      outputs = model(\n",
        "        input_ids=input_ids,\n",
        "        attention_mask=attention_mask\n",
        "      )\n",
        "\n",
        "      # Compute the predictions by finding the index of the max logit\n",
        "      _, preds = torch.max(outputs, dim=1)\n",
        "\n",
        "      # Calculate the loss between the model outputs and true targets\n",
        "      loss = loss_fn(outputs, targets)\n",
        "\n",
        "      # Count correct predictions to calculate accuracy\n",
        "      correct_predictions += torch.sum(preds == targets)\n",
        "      # Append the loss of the current batch to the list\n",
        "      losses.append(loss.item())\n",
        "\n",
        "  # Calculate the average accuracy and loss over all examples\n",
        "  return correct_predictions.double() / n_examples, np.mean(losses)\n"
      ],
      "metadata": {
        "id": "OfCaudCMAK_2"
      },
      "execution_count": null,
      "outputs": []
    },
    {
      "cell_type": "code",
      "source": [
        "%%time\n",
        "history = defaultdict(list)\n",
        "best_accuracy = 0\n",
        "\n",
        "for epoch in range(EPOCHS):\n",
        "\n",
        "  print(f'Epoch {epoch + 1}/{EPOCHS}')\n",
        "  print('-' * 10)\n",
        "\n",
        "  train_acc, train_loss = train_epoch(\n",
        "    model,\n",
        "    train_data_loader,\n",
        "    loss_fn,\n",
        "    optimizer,\n",
        "    device,\n",
        "    scheduler,\n",
        "    len(df_train)\n",
        "  )\n",
        "\n",
        "  print(f'Train loss {train_loss} accuracy {train_acc}')\n",
        "\n",
        "  val_acc, val_loss = eval_model(\n",
        "    model,\n",
        "    val_data_loader,\n",
        "    loss_fn,\n",
        "    device,\n",
        "    len(df_val)\n",
        "  )\n",
        "\n",
        "  print(f'Val   loss {val_loss} accuracy {val_acc}')\n",
        "  print()\n",
        "\n",
        "  history['train_acc'].append(train_acc)\n",
        "  history['train_loss'].append(train_loss)\n",
        "  history['val_acc'].append(val_acc)\n",
        "  history['val_loss'].append(val_loss)\n",
        "\n",
        "  if val_acc > best_accuracy:\n",
        "    torch.save(model.state_dict(), 'best_model_state_10.bin') # save best model\n",
        "    best_accuracy = val_acc"
      ],
      "metadata": {
        "colab": {
          "base_uri": "https://localhost:8080/",
          "height": 1000
        },
        "id": "w3Mcw9HjAM2P",
        "outputId": "628ee6b5-4f50-4ef5-e768-634e15a5f7ac"
      },
      "execution_count": null,
      "outputs": [
        {
          "output_type": "stream",
          "name": "stdout",
          "text": [
            "Epoch 1/20\n",
            "----------\n"
          ]
        },
        {
          "output_type": "stream",
          "name": "stderr",
          "text": [
            "/usr/local/lib/python3.11/dist-packages/torch/utils/data/dataloader.py:617: UserWarning: This DataLoader will create 4 worker processes in total. Our suggested max number of worker in current system is 2, which is smaller than what this DataLoader is going to create. Please be aware that excessive worker creation might get DataLoader running slow or even freeze, lower the worker number to avoid potential slowness/freeze if necessary.\n",
            "  warnings.warn(\n"
          ]
        },
        {
          "output_type": "stream",
          "name": "stdout",
          "text": [
            "Train loss 1.3566497249994427 accuracy 0.4594594594594595\n",
            "Val   loss 1.7034083895850927 accuracy 0.4845360824742268\n",
            "\n",
            "Epoch 2/20\n",
            "----------\n",
            "Train loss 1.1533558927476406 accuracy 0.4968814968814969\n",
            "Val   loss 0.7604777216911316 accuracy 0.4845360824742268\n",
            "\n",
            "Epoch 3/20\n",
            "----------\n",
            "Train loss 0.930377658456564 accuracy 0.47193347193347196\n",
            "Val   loss 0.7740173935890198 accuracy 0.5154639175257731\n",
            "\n"
          ]
        },
        {
          "output_type": "stream",
          "name": "stderr",
          "text": [
            "Exception ignored in: <function _MultiProcessingDataLoaderIter.__del__ at 0x7d4d513051c0>\n",
            "Traceback (most recent call last):\n",
            "  File \"/usr/local/lib/python3.11/dist-packages/torch/utils/data/dataloader.py\", line 1604, in __del__\n",
            "    self._shutdown_workers()\n",
            "  File \"/usr/local/lib/python3.11/dist-packages/torch/utils/data/dataloader.py\", line 1568, in _shutdown_workers\n",
            "    w.join(timeout=_utils.MP_STATUS_CHECK_INTERVAL)\n",
            "  File \"/usr/lib/python3.11/multiprocessing/process.py\", line 149, in join\n",
            "    res = self._popen.wait(timeout)\n",
            "          ^^^^^^^^^^^^^^^^^^^^^^^^^\n",
            "  File \"/usr/lib/python3.11/multiprocessing/popen_fork.py\", line 40, in wait\n",
            "    if not wait([self.sentinel], timeout):\n",
            "           ^^^^^^^^^^^^^^^^^^^^^^^^^^^^^^\n",
            "  File \"/usr/lib/python3.11/multiprocessing/connection.py\", line 948, in wait\n",
            "    ready = selector.select(timeout)\n",
            "            ^^^^^^^^^^^^^^^^^^^^^^^^\n",
            "  File \"/usr/lib/python3.11/selectors.py\", line 415, in select\n",
            "    fd_event_list = self._selector.poll(timeout)\n",
            "                    ^^^^^^^^^^^^^^^^^^^^^^^^^^^^\n",
            "  File \"/usr/local/lib/python3.11/dist-packages/torch/utils/data/_utils/signal_handling.py\", line 73, in handler\n",
            "    _error_if_any_worker_fails()\n",
            "RuntimeError: DataLoader worker (pid 7911) exited unexpectedly with exit code 1. Details are lost due to multiprocessing. Rerunning with num_workers=0 may give better error trace.\n"
          ]
        },
        {
          "output_type": "error",
          "ename": "KeyboardInterrupt",
          "evalue": "",
          "traceback": [
            "\u001b[0;31m---------------------------------------------------------------------------\u001b[0m",
            "\u001b[0;31mKeyboardInterrupt\u001b[0m                         Traceback (most recent call last)",
            "\u001b[0;32m<timed exec>\u001b[0m in \u001b[0;36m<module>\u001b[0;34m\u001b[0m\n",
            "\u001b[0;32m/usr/local/lib/python3.11/dist-packages/torch/serialization.py\u001b[0m in \u001b[0;36msave\u001b[0;34m(obj, f, pickle_module, pickle_protocol, _use_new_zipfile_serialization, _disable_byteorder_record)\u001b[0m\n\u001b[1;32m    848\u001b[0m     \u001b[0;32mif\u001b[0m \u001b[0m_use_new_zipfile_serialization\u001b[0m\u001b[0;34m:\u001b[0m\u001b[0;34m\u001b[0m\u001b[0;34m\u001b[0m\u001b[0m\n\u001b[1;32m    849\u001b[0m         \u001b[0;32mwith\u001b[0m \u001b[0m_open_zipfile_writer\u001b[0m\u001b[0;34m(\u001b[0m\u001b[0mf\u001b[0m\u001b[0;34m)\u001b[0m \u001b[0;32mas\u001b[0m \u001b[0mopened_zipfile\u001b[0m\u001b[0;34m:\u001b[0m\u001b[0;34m\u001b[0m\u001b[0;34m\u001b[0m\u001b[0m\n\u001b[0;32m--> 850\u001b[0;31m             _save(\n\u001b[0m\u001b[1;32m    851\u001b[0m                 \u001b[0mobj\u001b[0m\u001b[0;34m,\u001b[0m\u001b[0;34m\u001b[0m\u001b[0;34m\u001b[0m\u001b[0m\n\u001b[1;32m    852\u001b[0m                 \u001b[0mopened_zipfile\u001b[0m\u001b[0;34m,\u001b[0m\u001b[0;34m\u001b[0m\u001b[0;34m\u001b[0m\u001b[0m\n",
            "\u001b[0;32m/usr/local/lib/python3.11/dist-packages/torch/serialization.py\u001b[0m in \u001b[0;36m_save\u001b[0;34m(obj, zip_file, pickle_module, pickle_protocol, _disable_byteorder_record)\u001b[0m\n\u001b[1;32m   1112\u001b[0m                 \u001b[0mstorage\u001b[0m \u001b[0;34m=\u001b[0m \u001b[0mstorage\u001b[0m\u001b[0;34m.\u001b[0m\u001b[0mcpu\u001b[0m\u001b[0;34m(\u001b[0m\u001b[0;34m)\u001b[0m\u001b[0;34m\u001b[0m\u001b[0;34m\u001b[0m\u001b[0m\n\u001b[1;32m   1113\u001b[0m             \u001b[0;31m# Now that it is on the CPU we can directly copy it into the zip file\u001b[0m\u001b[0;34m\u001b[0m\u001b[0;34m\u001b[0m\u001b[0m\n\u001b[0;32m-> 1114\u001b[0;31m             \u001b[0mzip_file\u001b[0m\u001b[0;34m.\u001b[0m\u001b[0mwrite_record\u001b[0m\u001b[0;34m(\u001b[0m\u001b[0mname\u001b[0m\u001b[0;34m,\u001b[0m \u001b[0mstorage\u001b[0m\u001b[0;34m,\u001b[0m \u001b[0mnum_bytes\u001b[0m\u001b[0;34m)\u001b[0m\u001b[0;34m\u001b[0m\u001b[0;34m\u001b[0m\u001b[0m\n\u001b[0m\u001b[1;32m   1115\u001b[0m \u001b[0;34m\u001b[0m\u001b[0m\n\u001b[1;32m   1116\u001b[0m \u001b[0;34m\u001b[0m\u001b[0m\n",
            "\u001b[0;31mKeyboardInterrupt\u001b[0m: "
          ]
        }
      ]
    },
    {
      "cell_type": "markdown",
      "source": [
        "### Test"
      ],
      "metadata": {
        "id": "LXgtbnQ7-gAL"
      }
    },
    {
      "cell_type": "code",
      "source": [
        "test_acc, _ = eval_model(\n",
        "  model,\n",
        "  test_data_loader,\n",
        "  loss_fn,\n",
        "  device,\n",
        "  len(df_test)\n",
        ")\n",
        "\n",
        "test_acc.item()"
      ],
      "metadata": {
        "colab": {
          "base_uri": "https://localhost:8080/"
        },
        "id": "PNET0ubBBt4T",
        "outputId": "1724a895-4870-451a-9592-e05934692255"
      },
      "execution_count": null,
      "outputs": [
        {
          "output_type": "execute_result",
          "data": {
            "text/plain": [
              "0.5041322314049587"
            ]
          },
          "metadata": {},
          "execution_count": 72
        }
      ]
    },
    {
      "cell_type": "markdown",
      "source": [
        "# 3.2 Emotional content of stories"
      ],
      "metadata": {
        "id": "kYmhzoOm0fLi"
      }
    },
    {
      "cell_type": "code",
      "source": [],
      "metadata": {
        "id": "315b7Bcl5Sde"
      },
      "execution_count": null,
      "outputs": []
    },
    {
      "cell_type": "markdown",
      "source": [
        "TODO: Using a pre-trained emotion detection model available on huggingface3 , get a probability\n",
        "distribution for each sentence in each story. Average these probability vectors together to get\n",
        "an emotion vector for each story. For each story, the metadata provides a “theme\" field\n",
        "associated with each story: \"Rebellion\", \"Discovery\", \"Betrayal\", and \"Redemption\".\n",
        "Investigate whether and how the emotional content differs across the four “theme\" categories"
      ],
      "metadata": {
        "id": "c3ZCksba1BON"
      }
    }
  ]
}